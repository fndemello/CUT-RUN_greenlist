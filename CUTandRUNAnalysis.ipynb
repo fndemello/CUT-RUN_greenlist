{
 "cells": [
  {
   "cell_type": "markdown",
   "id": "5034b890-770c-44e5-b040-0f694a66276b",
   "metadata": {},
   "source": [
    "# This pipeline runs using python3.10.12"
   ]
  },
  {
   "cell_type": "code",
   "execution_count": 33,
   "id": "0d69ad24",
   "metadata": {},
   "outputs": [
    {
     "data": {
      "text/plain": [
       "sys.version_info(major=3, minor=10, micro=12, releaselevel='final', serial=0)"
      ]
     },
     "execution_count": 33,
     "metadata": {},
     "output_type": "execute_result"
    }
   ],
   "source": [
    "import sys\n",
    "sys.version_info"
   ]
  },
  {
   "cell_type": "markdown",
   "id": "5d3ab63c-0d91-44b7-a274-f652100e6606",
   "metadata": {},
   "source": [
    "import sys\n",
    "print(sys.version)"
   ]
  },
  {
   "cell_type": "code",
   "execution_count": 34,
   "id": "72cf6ac4",
   "metadata": {},
   "outputs": [
    {
     "name": "stdout",
     "output_type": "stream",
     "text": [
      "The rpy2.ipython extension is already loaded. To reload it, use:\n",
      "  %reload_ext rpy2.ipython\n"
     ]
    }
   ],
   "source": [
    "import rpy2\n",
    "%load_ext rpy2.ipython"
   ]
  },
  {
   "cell_type": "markdown",
   "id": "cf592004-daf1-43c9-b4b1-ddf04f38e252",
   "metadata": {},
   "source": [
    "# Bash usage "
   ]
  },
  {
   "cell_type": "code",
   "execution_count": 35,
   "id": "d373cb4c-0ed1-428c-8a26-b461b18c3292",
   "metadata": {},
   "outputs": [
    {
     "name": "stdout",
     "output_type": "stream",
     "text": [
      "CUT and RUN analysis\n"
     ]
    }
   ],
   "source": [
    "%%bash\n",
    "echo \"CUT and RUN analysis\""
   ]
  },
  {
   "cell_type": "markdown",
   "id": "c4ca2283-68a3-4b69-9a04-9ffee7fb72d4",
   "metadata": {},
   "source": [
    "## To calculate counts from bam files use deeptools package following the command lines bellow. Our sample bam file are located ate samples folder"
   ]
  },
  {
   "cell_type": "code",
   "execution_count": 37,
   "id": "98815eb7-cd31-4d73-8154-5096b3dd8cab",
   "metadata": {},
   "outputs": [
    {
     "name": "stderr",
     "output_type": "stream",
     "text": [
      "Number of bins found: 869\n"
     ]
    },
    {
     "name": "stdout",
     "output_type": "stream",
     "text": [
      "Counts were calculated!!\n"
     ]
    }
   ],
   "source": [
    "%%bash\n",
    "cd Examples/samples/; \n",
    "multiBamSummary BED-file --BED ../../hg38_CUTnRUN_greenlist.v1.bed --smartLabels -e --centerReads -o glist_quant.npz  -b GSM5956324.bam GSM5956325.bam GSM5956326.bam GSM5956336.bam GSM5956337.bam GSM5956338.bam --outRawCounts output\n",
    "cat output | tr -d \"'#\" | sed $'s/\\t/_/1' | cut -f 1,3- > glist_quant.tsv\n",
    "echo \"Counts were calculated!!\""
   ]
  },
  {
   "cell_type": "markdown",
   "id": "70fd70ec-ae42-4fc7-aa1b-9beeb1c8a904",
   "metadata": {},
   "source": [
    "## To calculate Normalization Factors using counts, follow the command line bellow. The file glist_quant.tsv used here is in counts folder once the glist_quant.tsv built in the previous step was a result of subsampled bam files, thus it doesn't represent the complete dataset. "
   ]
  },
  {
   "cell_type": "code",
   "execution_count": 38,
   "id": "ad8d79ef-9de0-4ae7-895c-8fe4c10b32f1",
   "metadata": {},
   "outputs": [
    {
     "name": "stderr",
     "output_type": "stream",
     "text": [
      "Loading required package: DESeq2\n",
      "Loading required package: S4Vectors\n",
      "Loading required package: stats4\n",
      "Loading required package: BiocGenerics\n",
      "\n",
      "Attaching package: ‘BiocGenerics’\n",
      "\n",
      "The following objects are masked from ‘package:stats’:\n",
      "\n",
      "    IQR, mad, sd, var, xtabs\n",
      "\n",
      "The following objects are masked from ‘package:base’:\n",
      "\n",
      "    anyDuplicated, append, as.data.frame, basename, cbind, colnames,\n",
      "    dirname, do.call, duplicated, eval, evalq, Filter, Find, get, grep,\n",
      "    grepl, intersect, is.unsorted, lapply, Map, mapply, match, mget,\n",
      "    order, paste, pmax, pmax.int, pmin, pmin.int, Position, rank,\n",
      "    rbind, Reduce, rownames, sapply, setdiff, sort, table, tapply,\n",
      "    union, unique, unsplit, which.max, which.min\n",
      "\n",
      "\n",
      "Attaching package: ‘S4Vectors’\n",
      "\n",
      "The following objects are masked from ‘package:base’:\n",
      "\n",
      "    expand.grid, I, unname\n",
      "\n",
      "Loading required package: IRanges\n",
      "Loading required package: GenomicRanges\n",
      "Loading required package: GenomeInfoDb\n",
      "Loading required package: SummarizedExperiment\n",
      "Loading required package: MatrixGenerics\n",
      "Loading required package: matrixStats\n",
      "\n",
      "Attaching package: ‘MatrixGenerics’\n",
      "\n",
      "The following objects are masked from ‘package:matrixStats’:\n",
      "\n",
      "    colAlls, colAnyNAs, colAnys, colAvgsPerRowSet, colCollapse,\n",
      "    colCounts, colCummaxs, colCummins, colCumprods, colCumsums,\n",
      "    colDiffs, colIQRDiffs, colIQRs, colLogSumExps, colMadDiffs,\n",
      "    colMads, colMaxs, colMeans2, colMedians, colMins, colOrderStats,\n",
      "    colProds, colQuantiles, colRanges, colRanks, colSdDiffs, colSds,\n",
      "    colSums2, colTabulates, colVarDiffs, colVars, colWeightedMads,\n",
      "    colWeightedMeans, colWeightedMedians, colWeightedSds,\n",
      "    colWeightedVars, rowAlls, rowAnyNAs, rowAnys, rowAvgsPerColSet,\n",
      "    rowCollapse, rowCounts, rowCummaxs, rowCummins, rowCumprods,\n",
      "    rowCumsums, rowDiffs, rowIQRDiffs, rowIQRs, rowLogSumExps,\n",
      "    rowMadDiffs, rowMads, rowMaxs, rowMeans2, rowMedians, rowMins,\n",
      "    rowOrderStats, rowProds, rowQuantiles, rowRanges, rowRanks,\n",
      "    rowSdDiffs, rowSds, rowSums2, rowTabulates, rowVarDiffs, rowVars,\n",
      "    rowWeightedMads, rowWeightedMeans, rowWeightedMedians,\n",
      "    rowWeightedSds, rowWeightedVars\n",
      "\n",
      "Loading required package: Biobase\n",
      "Welcome to Bioconductor\n",
      "\n",
      "    Vignettes contain introductory material; view with\n",
      "    'browseVignettes()'. To cite Bioconductor, see\n",
      "    'citation(\"Biobase\")', and for packages 'citation(\"pkgname\")'.\n",
      "\n",
      "\n",
      "Attaching package: ‘Biobase’\n",
      "\n",
      "The following object is masked from ‘package:MatrixGenerics’:\n",
      "\n",
      "    rowMedians\n",
      "\n",
      "The following objects are masked from ‘package:matrixStats’:\n",
      "\n",
      "    anyMissing, rowMedians\n",
      "\n"
     ]
    },
    {
     "name": "stdout",
     "output_type": "stream",
     "text": [
      "DESeq2 \n",
      "  TRUE \n"
     ]
    }
   ],
   "source": [
    "%%bash\n",
    "Rscript --vanilla original_scripts/get_sizeFactors.R Examples/counts/glist_quant.tsv Examples/counts/glist_sizeFactors.tsv"
   ]
  },
  {
   "cell_type": "markdown",
   "id": "45a187a5-5ed9-4838-a73f-f76963fccc55",
   "metadata": {},
   "source": [
    "## Here, we only describe the peak calling of Pax3FOXO1. First, we have to build a file \"ratio-size-factor.txt\" (example is in peaks folder). The ratio parameter is calculated [[size factor from treatment / size factor from IgG]]. Examples to perform peak calling from 3 replicates are shown bellow. The samples and data were obtained from GSE19853 (https://www.ncbi.nlm.nih.gov/geo/query/acc.cgi?acc=GSE198753). Just keep in mind that in this demo, the bam files are subsampled from a larger dataset."
   ]
  },
  {
   "cell_type": "code",
   "execution_count": 39,
   "id": "234f615c-25b5-4771-98e2-de8aedceabc7",
   "metadata": {},
   "outputs": [
    {
     "name": "stderr",
     "output_type": "stream",
     "text": [
      "INFO  @ Fri, 15 Dec 2023 10:39:39: \n",
      "# Command line: callpeak -t Examples/samples/GSM5956336.bam -c Examples/samples/GSM5956324.bam -n Examples/peaks/Pax3FOXO1-rep1 --ratio 0.6944264 --format BAMPE -g hs --keep-dup all\n",
      "# ARGUMENTS LIST:\n",
      "# name = Examples/peaks/Pax3FOXO1-rep1\n",
      "# format = BAMPE\n",
      "# ChIP-seq file = ['Examples/samples/GSM5956336.bam']\n",
      "# control file = ['Examples/samples/GSM5956324.bam']\n",
      "# effective genome size = 2.70e+09\n",
      "# band width = 300\n",
      "# model fold = [5, 50]\n",
      "# qvalue cutoff = 5.00e-02\n",
      "# The maximum gap between significant sites is assigned as the read length/tag size.\n",
      "# The minimum length of peaks is assigned as the predicted fragment length \"d\".\n",
      "# Larger dataset will be scaled towards smaller dataset.\n",
      "# Using a custom scaling factor: 6.94e-01\n",
      "# Range for calculating regional lambda is: 1000 bps and 10000 bps\n",
      "# Broad region calling is off\n",
      "# Paired-End mode is on\n",
      " \n",
      "INFO  @ Fri, 15 Dec 2023 10:39:39: #1 read fragment files... \n",
      "INFO  @ Fri, 15 Dec 2023 10:39:39: #1 read treatment fragments... \n",
      "INFO  @ Fri, 15 Dec 2023 10:39:39: 39881 fragments have been read. \n",
      "INFO  @ Fri, 15 Dec 2023 10:39:39: #1.2 read input fragments... \n",
      "INFO  @ Fri, 15 Dec 2023 10:39:40: 38165 fragments have been read. \n",
      "INFO  @ Fri, 15 Dec 2023 10:39:40: #1 mean fragment size is determined as 249.7 bp from treatment \n",
      "INFO  @ Fri, 15 Dec 2023 10:39:40: #1 note: mean fragment size in control is 205.8 bp -- value ignored \n",
      "INFO  @ Fri, 15 Dec 2023 10:39:40: #1 fragment size = 249.7 \n",
      "INFO  @ Fri, 15 Dec 2023 10:39:40: #1  total fragments in treatment: 39881 \n",
      "INFO  @ Fri, 15 Dec 2023 10:39:40: #1  total fragments in control: 38165 \n",
      "INFO  @ Fri, 15 Dec 2023 10:39:40: #1 finished! \n",
      "INFO  @ Fri, 15 Dec 2023 10:39:40: #2 Build Peak Model... \n",
      "INFO  @ Fri, 15 Dec 2023 10:39:40: #2 Skipped... \n",
      "INFO  @ Fri, 15 Dec 2023 10:39:40: #3 Call peaks... \n",
      "INFO  @ Fri, 15 Dec 2023 10:39:40: #3 Pre-compute pvalue-qvalue table... \n",
      "INFO  @ Fri, 15 Dec 2023 10:39:40: #3 Call peaks for each chromosome... \n",
      "INFO  @ Fri, 15 Dec 2023 10:39:40: #4 Write output xls file... Examples/peaks/Pax3FOXO1-rep1_peaks.xls \n",
      "INFO  @ Fri, 15 Dec 2023 10:39:40: #4 Write peak in narrowPeak format file... Examples/peaks/Pax3FOXO1-rep1_peaks.narrowPeak \n",
      "INFO  @ Fri, 15 Dec 2023 10:39:40: #4 Write summits bed file... Examples/peaks/Pax3FOXO1-rep1_summits.bed \n",
      "INFO  @ Fri, 15 Dec 2023 10:39:40: Done! \n",
      "INFO  @ Fri, 15 Dec 2023 10:39:40: \n",
      "# Command line: callpeak -t Examples/samples/GSM5956337.bam -c Examples/samples/GSM5956325.bam -n Examples/peaks/Pax3FOXO1-rep2 --ratio 0.632568 --format BAMPE -g hs --keep-dup all\n",
      "# ARGUMENTS LIST:\n",
      "# name = Examples/peaks/Pax3FOXO1-rep2\n",
      "# format = BAMPE\n",
      "# ChIP-seq file = ['Examples/samples/GSM5956337.bam']\n",
      "# control file = ['Examples/samples/GSM5956325.bam']\n",
      "# effective genome size = 2.70e+09\n",
      "# band width = 300\n",
      "# model fold = [5, 50]\n",
      "# qvalue cutoff = 5.00e-02\n",
      "# The maximum gap between significant sites is assigned as the read length/tag size.\n",
      "# The minimum length of peaks is assigned as the predicted fragment length \"d\".\n",
      "# Larger dataset will be scaled towards smaller dataset.\n",
      "# Using a custom scaling factor: 6.33e-01\n",
      "# Range for calculating regional lambda is: 1000 bps and 10000 bps\n",
      "# Broad region calling is off\n",
      "# Paired-End mode is on\n",
      " \n",
      "INFO  @ Fri, 15 Dec 2023 10:39:40: #1 read fragment files... \n",
      "INFO  @ Fri, 15 Dec 2023 10:39:40: #1 read treatment fragments... \n",
      "INFO  @ Fri, 15 Dec 2023 10:39:40: 39576 fragments have been read. \n",
      "INFO  @ Fri, 15 Dec 2023 10:39:40: #1.2 read input fragments... \n",
      "INFO  @ Fri, 15 Dec 2023 10:39:40: 38645 fragments have been read. \n",
      "INFO  @ Fri, 15 Dec 2023 10:39:40: #1 mean fragment size is determined as 247.4 bp from treatment \n",
      "INFO  @ Fri, 15 Dec 2023 10:39:40: #1 note: mean fragment size in control is 240.4 bp -- value ignored \n",
      "INFO  @ Fri, 15 Dec 2023 10:39:40: #1 fragment size = 247.4 \n",
      "INFO  @ Fri, 15 Dec 2023 10:39:40: #1  total fragments in treatment: 39576 \n",
      "INFO  @ Fri, 15 Dec 2023 10:39:40: #1  total fragments in control: 38645 \n",
      "INFO  @ Fri, 15 Dec 2023 10:39:40: #1 finished! \n",
      "INFO  @ Fri, 15 Dec 2023 10:39:40: #2 Build Peak Model... \n",
      "INFO  @ Fri, 15 Dec 2023 10:39:40: #2 Skipped... \n",
      "INFO  @ Fri, 15 Dec 2023 10:39:40: #3 Call peaks... \n",
      "INFO  @ Fri, 15 Dec 2023 10:39:40: #3 Pre-compute pvalue-qvalue table... \n",
      "INFO  @ Fri, 15 Dec 2023 10:39:41: #3 Call peaks for each chromosome... \n",
      "INFO  @ Fri, 15 Dec 2023 10:39:41: #4 Write output xls file... Examples/peaks/Pax3FOXO1-rep2_peaks.xls \n",
      "INFO  @ Fri, 15 Dec 2023 10:39:41: #4 Write peak in narrowPeak format file... Examples/peaks/Pax3FOXO1-rep2_peaks.narrowPeak \n",
      "INFO  @ Fri, 15 Dec 2023 10:39:41: #4 Write summits bed file... Examples/peaks/Pax3FOXO1-rep2_summits.bed \n",
      "INFO  @ Fri, 15 Dec 2023 10:39:41: Done! \n",
      "INFO  @ Fri, 15 Dec 2023 10:39:41: \n",
      "# Command line: callpeak -t Examples/samples/GSM5956338.bam -c Examples/samples/GSM5956326.bam -n Examples/peaks/Pax3FOXO1-rep3 --ratio 0.8840669 --format BAMPE -g hs --keep-dup all\n",
      "# ARGUMENTS LIST:\n",
      "# name = Examples/peaks/Pax3FOXO1-rep3\n",
      "# format = BAMPE\n",
      "# ChIP-seq file = ['Examples/samples/GSM5956338.bam']\n",
      "# control file = ['Examples/samples/GSM5956326.bam']\n",
      "# effective genome size = 2.70e+09\n",
      "# band width = 300\n",
      "# model fold = [5, 50]\n",
      "# qvalue cutoff = 5.00e-02\n",
      "# The maximum gap between significant sites is assigned as the read length/tag size.\n",
      "# The minimum length of peaks is assigned as the predicted fragment length \"d\".\n",
      "# Larger dataset will be scaled towards smaller dataset.\n",
      "# Using a custom scaling factor: 8.84e-01\n",
      "# Range for calculating regional lambda is: 1000 bps and 10000 bps\n",
      "# Broad region calling is off\n",
      "# Paired-End mode is on\n",
      " \n",
      "INFO  @ Fri, 15 Dec 2023 10:39:41: #1 read fragment files... \n",
      "INFO  @ Fri, 15 Dec 2023 10:39:41: #1 read treatment fragments... \n",
      "INFO  @ Fri, 15 Dec 2023 10:39:41: 36611 fragments have been read. \n",
      "INFO  @ Fri, 15 Dec 2023 10:39:41: #1.2 read input fragments... \n",
      "INFO  @ Fri, 15 Dec 2023 10:39:41: 35452 fragments have been read. \n",
      "INFO  @ Fri, 15 Dec 2023 10:39:41: #1 mean fragment size is determined as 251.8 bp from treatment \n",
      "INFO  @ Fri, 15 Dec 2023 10:39:41: #1 note: mean fragment size in control is 241.8 bp -- value ignored \n",
      "INFO  @ Fri, 15 Dec 2023 10:39:41: #1 fragment size = 251.8 \n",
      "INFO  @ Fri, 15 Dec 2023 10:39:41: #1  total fragments in treatment: 36611 \n",
      "INFO  @ Fri, 15 Dec 2023 10:39:41: #1  total fragments in control: 35452 \n",
      "INFO  @ Fri, 15 Dec 2023 10:39:41: #1 finished! \n",
      "INFO  @ Fri, 15 Dec 2023 10:39:41: #2 Build Peak Model... \n",
      "INFO  @ Fri, 15 Dec 2023 10:39:41: #2 Skipped... \n",
      "INFO  @ Fri, 15 Dec 2023 10:39:41: #3 Call peaks... \n",
      "INFO  @ Fri, 15 Dec 2023 10:39:41: #3 Pre-compute pvalue-qvalue table... \n",
      "INFO  @ Fri, 15 Dec 2023 10:39:41: #3 Call peaks for each chromosome... \n",
      "INFO  @ Fri, 15 Dec 2023 10:39:42: #4 Write output xls file... Examples/peaks/Pax3FOXO1-rep3_peaks.xls \n",
      "INFO  @ Fri, 15 Dec 2023 10:39:42: #4 Write peak in narrowPeak format file... Examples/peaks/Pax3FOXO1-rep3_peaks.narrowPeak \n",
      "INFO  @ Fri, 15 Dec 2023 10:39:42: #4 Write summits bed file... Examples/peaks/Pax3FOXO1-rep3_summits.bed \n",
      "INFO  @ Fri, 15 Dec 2023 10:39:42: Done! \n"
     ]
    }
   ],
   "source": [
    "%%bash \n",
    "c=`grep Rep1 Examples/peaks/ratio-size-factor.txt | cut -f 2`\n",
    "macs2 callpeak -t Examples/samples/GSM5956336.bam -c Examples/samples/GSM5956324.bam -n Examples/peaks/Pax3FOXO1-rep1 --ratio ${c} --format BAMPE -g hs --keep-dup all\n",
    "\n",
    "c=`grep Rep2 Examples/peaks/ratio-size-factor.txt | cut -f 2`\n",
    "macs2 callpeak -t Examples/samples/GSM5956337.bam -c Examples/samples/GSM5956325.bam -n Examples/peaks/Pax3FOXO1-rep2 --ratio ${c} --format BAMPE -g hs --keep-dup all\n",
    "\n",
    "c=`grep Rep3 Examples/peaks/ratio-size-factor.txt | cut -f 2`\n",
    "macs2 callpeak -t Examples/samples/GSM5956338.bam -c Examples/samples/GSM5956326.bam -n Examples/peaks/Pax3FOXO1-rep3 --ratio ${c} --format BAMPE -g hs --keep-dup all"
   ]
  },
  {
   "cell_type": "markdown",
   "id": "2d7a1de4-b845-43f9-ba97-7980c088f1f4",
   "metadata": {},
   "source": [
    "## To perform the statistical analysis, you have to merge the peaks found in the replicates and then measure counts for this new BED file."
   ]
  },
  {
   "cell_type": "code",
   "execution_count": 40,
   "id": "b6ad2e96-3842-4dc6-854e-e899244e33aa",
   "metadata": {},
   "outputs": [
    {
     "name": "stderr",
     "output_type": "stream",
     "text": [
      "Number of bins found: 272\n"
     ]
    },
    {
     "name": "stdout",
     "output_type": "stream",
     "text": [
      "Counts were calculated!!\n"
     ]
    }
   ],
   "source": [
    "%%bash\n",
    "#merge peaks \n",
    "cat Examples/peaks/*summits.bed | bedtools sort -i - | bedtools merge -i - > Examples/peaks/Pax3FOXO1-peaks-merged.bed\n",
    "# calculate counts\n",
    "cd Examples/samples; \n",
    "multiBamSummary BED-file --BED ../peaks/Pax3FOXO1-peaks-merged.bed --smartLabels -e --centerReads -o ../peaks/glist_quant.npz  -b GSM5956324.bam GSM5956325.bam GSM5956326.bam GSM5956336.bam GSM5956337.bam GSM5956338.bam --outRawCounts ../peaks/output\n",
    "cat ../peaks/output | tr -d \"'#\" | sed $'s/\\t/_/1' | cut -f 1,3- > ../peaks/glist_quant.tsv\n",
    "echo \"Counts were calculated!!\""
   ]
  },
  {
   "cell_type": "markdown",
   "id": "31fa8c85-1f1a-458d-bee9-902a2f7f1424",
   "metadata": {},
   "source": [
    "## To perfom the normalization and entropy calculations, we use here the peaks/example_glist_quant.tsv data for demontration, but you should use the peaks/glist_quant.tsv resulted from your analysis. "
   ]
  },
  {
   "cell_type": "code",
   "execution_count": 41,
   "id": "ec1d5a4e-ba13-4cb2-85eb-c35d587ce608",
   "metadata": {},
   "outputs": [
    {
     "name": "stderr",
     "output_type": "stream",
     "text": [
      "Loading required package: ggplot2\n",
      "Loading required package: broman\n",
      "Loading required package: entropy\n",
      "Loading required package: reshape2\n"
     ]
    },
    {
     "name": "stdout",
     "output_type": "stream",
     "text": [
      " ggplot2   broman  entropy reshape2 \n",
      "    TRUE     TRUE     TRUE     TRUE \n",
      "   Min. 1st Qu.  Median    Mean 3rd Qu.    Max. \n",
      "  2.157   2.681   2.758   2.737   2.815   2.890 \n",
      "null device \n",
      "          1 \n"
     ]
    }
   ],
   "source": [
    "%%bash\n",
    "#calculate entropy\n",
    "Rscript --vanilla original_scripts/norm+entropy.R Examples/peaks/example_glist_quant.tsv Examples/results/Pax3FOXO1"
   ]
  }
 ],
 "metadata": {
  "kernelspec": {
   "display_name": "Python 3 (ipykernel)",
   "language": "python",
   "name": "python3"
  },
  "language_info": {
   "codemirror_mode": {
    "name": "ipython",
    "version": 3
   },
   "file_extension": ".py",
   "mimetype": "text/x-python",
   "name": "python",
   "nbconvert_exporter": "python",
   "pygments_lexer": "ipython3",
   "version": "3.10.12"
  }
 },
 "nbformat": 4,
 "nbformat_minor": 5
}
